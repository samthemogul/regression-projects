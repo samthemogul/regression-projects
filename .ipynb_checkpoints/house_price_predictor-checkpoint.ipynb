{
 "cells": [
  {
   "cell_type": "code",
   "execution_count": 2,
   "id": "e7100287-e0b1-4ff0-b232-81ea6c7c8719",
   "metadata": {},
   "outputs": [],
   "source": [
    "import numpy\n",
    "import pandas\n",
    "import matplotlib"
   ]
  },
  {
   "cell_type": "markdown",
   "id": "ee2eb5f7-710b-4252-855b-7a623789537a",
   "metadata": {},
   "source": [
    "Import the dataset and begin to clean it."
   ]
  },
  {
   "cell_type": "code",
   "execution_count": null,
   "id": "458124ac-f21f-4bd4-8529-8073f67e5358",
   "metadata": {},
   "outputs": [],
   "source": []
  }
 ],
 "metadata": {
  "kernelspec": {
   "display_name": "Python 3 (ipykernel)",
   "language": "python",
   "name": "python3"
  },
  "language_info": {
   "codemirror_mode": {
    "name": "ipython",
    "version": 3
   },
   "file_extension": ".py",
   "mimetype": "text/x-python",
   "name": "python",
   "nbconvert_exporter": "python",
   "pygments_lexer": "ipython3",
   "version": "3.12.3"
  }
 },
 "nbformat": 4,
 "nbformat_minor": 5
}
